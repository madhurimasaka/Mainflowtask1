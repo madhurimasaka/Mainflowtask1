{
 "cells": [
  {
   "cell_type": "code",
   "execution_count": 1,
   "id": "47539dd7-f77c-4f41-b008-a3d453aea5c0",
   "metadata": {},
   "outputs": [
    {
     "name": "stdout",
     "output_type": "stream",
     "text": [
      "Madhu\n"
     ]
    }
   ],
   "source": [
    "print(\"Madhu\")"
   ]
  },
  {
   "cell_type": "code",
   "execution_count": 2,
   "id": "9203bfbb-91af-44ea-962a-f98f60fbf6c2",
   "metadata": {},
   "outputs": [
    {
     "name": "stdout",
     "output_type": "stream",
     "text": [
      "Hello World\n"
     ]
    }
   ],
   "source": [
    "print(\"Hello World\")"
   ]
  },
  {
   "cell_type": "code",
   "execution_count": 13,
   "id": "e71e293d-56c1-41a7-8fe9-5905dce9abe4",
   "metadata": {},
   "outputs": [
    {
     "name": "stdout",
     "output_type": "stream",
     "text": [
      "10\n"
     ]
    }
   ],
   "source": [
    "x = 10 \n",
    "print(x)"
   ]
  },
  {
   "cell_type": "code",
   "execution_count": 13,
   "id": "c3666f4a-5671-4f49-886a-d14844515a2d",
   "metadata": {},
   "outputs": [
    {
     "name": "stdout",
     "output_type": "stream",
     "text": [
      "10\n"
     ]
    }
   ],
   "source": [
    "#indentation\n",
    "\n",
    "a = 10\n",
    "if a <=10:\n",
    "    print(a)"
   ]
  },
  {
   "cell_type": "markdown",
   "id": "9321b51d-3a1f-463d-83a6-6c45972c94fb",
   "metadata": {},
   "source": [
    "#STRINGS"
   ]
  },
  {
   "cell_type": "code",
   "execution_count": 5,
   "id": "0f9f53b7-6aa7-4766-9aca-054fb605c535",
   "metadata": {},
   "outputs": [
    {
     "name": "stdout",
     "output_type": "stream",
     "text": [
      "HELLO\n",
      "O\n",
      "ELL\n",
      "OLLEH\n"
     ]
    }
   ],
   "source": [
    "mystring = \"HELLO\"\n",
    "print(mystring)\n",
    "print(mystring[4])\n",
    "print(mystring[1:4])\n",
    "print(mystring[::-1])\n"
   ]
  },
  {
   "cell_type": "code",
   "execution_count": 9,
   "id": "fd8eae16-e6b7-48f5-af1a-446370dc66e7",
   "metadata": {},
   "outputs": [
    {
     "name": "stdout",
     "output_type": "stream",
     "text": [
      "HELLOHello\n",
      "HELLO Hello\n",
      "HelloHelloHello\n"
     ]
    }
   ],
   "source": [
    "my_str = 'Hello'\n",
    "my_str\n",
    "print(mystring+my_str)\n",
    "print(mystring + \" \"+my_str)\n",
    "print(my_str*3)"
   ]
  },
  {
   "cell_type": "markdown",
   "id": "af3164e6-436d-49b0-b7d1-9f644f8e423a",
   "metadata": {},
   "source": [
    "#conditional statements"
   ]
  },
  {
   "cell_type": "code",
   "execution_count": 10,
   "id": "12237c29-2e5f-4ab5-a80b-abff5246ce94",
   "metadata": {},
   "outputs": [
    {
     "name": "stdin",
     "output_type": "stream",
     "text": [
      "enter a number: 80\n"
     ]
    },
    {
     "name": "stdout",
     "output_type": "stream",
     "text": [
      "pass\n"
     ]
    }
   ],
   "source": [
    "marks = int(input(\"enter a number:\"))\n",
    "if marks >= 75:\n",
    "    print(\"pass\")\n",
    "else:\n",
    "    print(\"Fail\")"
   ]
  },
  {
   "cell_type": "code",
   "execution_count": 11,
   "id": "685a0296-3253-4f7f-a803-889fac7e4de7",
   "metadata": {},
   "outputs": [
    {
     "name": "stdin",
     "output_type": "stream",
     "text": [
      "enter a number: 67\n"
     ]
    },
    {
     "name": "stdout",
     "output_type": "stream",
     "text": [
      "Grade C\n"
     ]
    }
   ],
   "source": [
    "marks_scored = int(input(\"enter a number:\"))\n",
    "if marks_scored >= 85:\n",
    "    print(\"Grade A\")\n",
    "elif marks_scored >=75:\n",
    "    print(\"Grade B\")\n",
    "elif marks_scored >=65:\n",
    "    print(\"Grade C\")    \n",
    "else:\n",
    "    print(\"Fail\")"
   ]
  },
  {
   "cell_type": "markdown",
   "id": "2c7a8ad8-ca95-459b-9d4c-5664d90da404",
   "metadata": {},
   "source": [
    "#Arithmetic operations"
   ]
  },
  {
   "cell_type": "code",
   "execution_count": 14,
   "id": "25bd614b-1db1-4ceb-936a-4a6d1149a7b4",
   "metadata": {},
   "outputs": [
    {
     "name": "stdout",
     "output_type": "stream",
     "text": [
      "6\n",
      "8\n",
      "0.5\n",
      "-2\n",
      "0\n",
      "16\n",
      "2\n"
     ]
    }
   ],
   "source": [
    "a = 2\n",
    "b = 4\n",
    "print(a+b) #addition\n",
    "print(a*b) #multiplication\n",
    "print(a/b) #division\n",
    "print(a-b) #substraction\n",
    "print(a//b) #floor division\n",
    "print(a**b) #exponential\n",
    "print(a%b) #modulus"
   ]
  },
  {
   "cell_type": "markdown",
   "id": "fc50f63e-dffa-4a80-9a42-83069bc6319a",
   "metadata": {},
   "source": [
    "comparison"
   ]
  },
  {
   "cell_type": "code",
   "execution_count": 23,
   "id": "e3556bce-c521-4646-932a-1b0851db33d7",
   "metadata": {},
   "outputs": [
    {
     "name": "stdout",
     "output_type": "stream",
     "text": [
      "False\n",
      "True\n",
      "False\n",
      "True\n",
      "False\n",
      "True\n"
     ]
    }
   ],
   "source": [
    "x= 4\n",
    "y = 7\n",
    "print(x == y)\n",
    "print(x!=y)\n",
    "print(x>y)\n",
    "print(x<y)\n",
    "print(x>=y)\n",
    "print(x<=y)\n"
   ]
  },
  {
   "cell_type": "markdown",
   "id": "ebf043a0-1023-47ab-a178-f5117b648b00",
   "metadata": {},
   "source": [
    "Bitwise"
   ]
  },
  {
   "cell_type": "code",
   "execution_count": 30,
   "id": "731048c0-2925-46cc-bcc0-070e439596ba",
   "metadata": {},
   "outputs": [
    {
     "name": "stdout",
     "output_type": "stream",
     "text": [
      "4\n",
      "7\n",
      "3\n",
      "-8\n",
      "16\n",
      "1\n"
     ]
    }
   ],
   "source": [
    "print(x&y)\n",
    "print(x|y)\n",
    "print(x^y)\n",
    "print(~y)\n",
    "print(x<<2)\n",
    "print(x>>2)"
   ]
  },
  {
   "cell_type": "markdown",
   "id": "8f53b0d4-4cd6-4c38-a872-3ec252483a0c",
   "metadata": {},
   "source": [
    "#LIST"
   ]
  },
  {
   "cell_type": "code",
   "execution_count": 44,
   "id": "4e245e7f-c391-4063-af1c-165aae244968",
   "metadata": {},
   "outputs": [
    {
     "name": "stdout",
     "output_type": "stream",
     "text": [
      "[1, 2, 3]\n",
      "1\n",
      "2\n",
      "3\n",
      "[2]\n",
      "[1, 2, 7]\n",
      "3\n",
      "1\n",
      "2\n",
      "7\n"
     ]
    }
   ],
   "source": [
    "mylist = []\n",
    "mylist.append(1)\n",
    "mylist.append(2)\n",
    "mylist.append(3)\n",
    "print(mylist)\n",
    "print(mylist[0]) # prints 1\n",
    "print(mylist[1]) # prints 2\n",
    "print(mylist[2]) # prints 3\n",
    "print(mylist[1:2])\n",
    "mylist[2]=7\n",
    "print(mylist)\n",
    "print(len(mylist))\n",
    "for x in mylist:\n",
    "    print(x)"
   ]
  },
  {
   "cell_type": "code",
   "execution_count": 45,
   "id": "d965b021-ea76-4252-8cfd-fb2a3be87b45",
   "metadata": {},
   "outputs": [
    {
     "data": {
      "text/plain": [
       "[1, 2, 7]"
      ]
     },
     "execution_count": 45,
     "metadata": {},
     "output_type": "execute_result"
    }
   ],
   "source": [
    "mylist"
   ]
  },
  {
   "cell_type": "code",
   "execution_count": 46,
   "id": "0ac6a856-34ef-4f4c-aa17-0950aaefe11b",
   "metadata": {},
   "outputs": [],
   "source": [
    "mylist.insert(2,\"madhu\")"
   ]
  },
  {
   "cell_type": "code",
   "execution_count": 47,
   "id": "108ce089-e137-4e96-a759-7614bf6d9d2d",
   "metadata": {},
   "outputs": [
    {
     "data": {
      "text/plain": [
       "[1, 2, 'madhu', 7]"
      ]
     },
     "execution_count": 47,
     "metadata": {},
     "output_type": "execute_result"
    }
   ],
   "source": [
    "mylist"
   ]
  },
  {
   "cell_type": "code",
   "execution_count": 48,
   "id": "b20f51ec-48da-4133-97c5-e561f753a707",
   "metadata": {},
   "outputs": [],
   "source": [
    "mylist.append(713)"
   ]
  },
  {
   "cell_type": "code",
   "execution_count": 49,
   "id": "6f79337f-767e-45bc-91c2-703a072ed016",
   "metadata": {},
   "outputs": [
    {
     "data": {
      "text/plain": [
       "[1, 2, 'madhu', 7, 713]"
      ]
     },
     "execution_count": 49,
     "metadata": {},
     "output_type": "execute_result"
    }
   ],
   "source": [
    "mylist"
   ]
  },
  {
   "cell_type": "code",
   "execution_count": 50,
   "id": "1be307c9-0636-46e9-859b-783eb95c4753",
   "metadata": {},
   "outputs": [],
   "source": [
    "mylist.remove(\"madhu\")"
   ]
  },
  {
   "cell_type": "code",
   "execution_count": 51,
   "id": "15d59bc5-8efa-4007-8846-0a45330dcbb6",
   "metadata": {},
   "outputs": [
    {
     "data": {
      "text/plain": [
       "[1, 2, 7, 713]"
      ]
     },
     "execution_count": 51,
     "metadata": {},
     "output_type": "execute_result"
    }
   ],
   "source": [
    "mylist"
   ]
  },
  {
   "cell_type": "code",
   "execution_count": 52,
   "id": "0e33d7f7-b96b-44e9-9aa9-01610bbc8912",
   "metadata": {},
   "outputs": [
    {
     "data": {
      "text/plain": [
       "713"
      ]
     },
     "execution_count": 52,
     "metadata": {},
     "output_type": "execute_result"
    }
   ],
   "source": [
    "mylist.pop()"
   ]
  },
  {
   "cell_type": "code",
   "execution_count": 53,
   "id": "6e63101b-77e6-477e-bcff-2f9531331bb4",
   "metadata": {},
   "outputs": [],
   "source": [
    "del mylist[0]"
   ]
  },
  {
   "cell_type": "code",
   "execution_count": 54,
   "id": "8b5aa37c-ce3a-4e05-9f9e-f2a0a4e78957",
   "metadata": {},
   "outputs": [
    {
     "data": {
      "text/plain": [
       "[2, 7]"
      ]
     },
     "execution_count": 54,
     "metadata": {},
     "output_type": "execute_result"
    }
   ],
   "source": [
    "mylist"
   ]
  },
  {
   "cell_type": "code",
   "execution_count": 55,
   "id": "52fdb475-50db-4b26-913b-fb2e223751ab",
   "metadata": {},
   "outputs": [],
   "source": [
    "mylist.sort()"
   ]
  },
  {
   "cell_type": "code",
   "execution_count": 56,
   "id": "77fc16bb-a747-4db5-8304-db65e7d27247",
   "metadata": {},
   "outputs": [
    {
     "data": {
      "text/plain": [
       "[2, 7]"
      ]
     },
     "execution_count": 56,
     "metadata": {},
     "output_type": "execute_result"
    }
   ],
   "source": [
    "mylist"
   ]
  },
  {
   "cell_type": "code",
   "execution_count": 57,
   "id": "f8da524f-502d-49d4-8067-c158b7e7e734",
   "metadata": {},
   "outputs": [],
   "source": [
    "mylist.sort(reverse=True)"
   ]
  },
  {
   "cell_type": "code",
   "execution_count": 58,
   "id": "1865360b-0c6e-4e08-9512-08d9dfc03acb",
   "metadata": {},
   "outputs": [
    {
     "data": {
      "text/plain": [
       "[7, 2]"
      ]
     },
     "execution_count": 58,
     "metadata": {},
     "output_type": "execute_result"
    }
   ],
   "source": [
    "mylist"
   ]
  },
  {
   "cell_type": "code",
   "execution_count": null,
   "id": "13496edd-ae08-4618-8d36-789cfc6775e1",
   "metadata": {},
   "outputs": [],
   "source": []
  },
  {
   "cell_type": "markdown",
   "id": "1d393d69-c950-4a45-9951-dcc57c49de95",
   "metadata": {},
   "source": [
    "#TUPLE"
   ]
  },
  {
   "cell_type": "code",
   "execution_count": 59,
   "id": "3fa947ff-1169-4aea-b450-5e3a3fc1cb33",
   "metadata": {},
   "outputs": [],
   "source": [
    "mytuple = (4,5,7,13,19)"
   ]
  },
  {
   "cell_type": "code",
   "execution_count": 61,
   "id": "335b4253-4898-4f89-9452-374f5b367f22",
   "metadata": {},
   "outputs": [
    {
     "data": {
      "text/plain": [
       "5"
      ]
     },
     "execution_count": 61,
     "metadata": {},
     "output_type": "execute_result"
    }
   ],
   "source": [
    "len(mytuple)"
   ]
  },
  {
   "cell_type": "code",
   "execution_count": 62,
   "id": "1411e725-419c-4528-a32d-67749feda4ba",
   "metadata": {},
   "outputs": [
    {
     "data": {
      "text/plain": [
       "7"
      ]
     },
     "execution_count": 62,
     "metadata": {},
     "output_type": "execute_result"
    }
   ],
   "source": [
    "mytuple[-3]"
   ]
  },
  {
   "cell_type": "code",
   "execution_count": 63,
   "id": "940e2230-78fb-4835-b4cb-f372c3d0cb6c",
   "metadata": {},
   "outputs": [
    {
     "data": {
      "text/plain": [
       "1"
      ]
     },
     "execution_count": 63,
     "metadata": {},
     "output_type": "execute_result"
    }
   ],
   "source": [
    "mytuple.count(4)"
   ]
  },
  {
   "cell_type": "markdown",
   "id": "4b4155d3-4f94-4c08-b662-2d99bccdea09",
   "metadata": {},
   "source": [
    "#sets"
   ]
  },
  {
   "cell_type": "code",
   "execution_count": 65,
   "id": "e527a40a-572c-4520-9dcd-8d04b703e2c3",
   "metadata": {},
   "outputs": [
    {
     "data": {
      "text/plain": [
       "{'apple', 'banana', 'cherry', 'pineapple'}"
      ]
     },
     "execution_count": 65,
     "metadata": {},
     "output_type": "execute_result"
    }
   ],
   "source": [
    "myset = {\"apple\" , \"banana\" , \"pineapple\" ,\"cherry\"}\n",
    "myset"
   ]
  },
  {
   "cell_type": "code",
   "execution_count": 66,
   "id": "0e3f088a-b773-4ef4-bd13-80951ba09d61",
   "metadata": {},
   "outputs": [
    {
     "data": {
      "text/plain": [
       "{'apple', 'banana', 'cherry', 'pineapple'}"
      ]
     },
     "execution_count": 66,
     "metadata": {},
     "output_type": "execute_result"
    }
   ],
   "source": [
    "myset = {\"apple\" , \"banana\" , \"pineapple\" ,\"cherry\",\"banana\"}\n",
    "myset"
   ]
  },
  {
   "cell_type": "code",
   "execution_count": 67,
   "id": "a65ec8a5-a9d9-4ca5-8c4b-ca74484c8d5e",
   "metadata": {},
   "outputs": [
    {
     "name": "stdout",
     "output_type": "stream",
     "text": [
      "True\n"
     ]
    }
   ],
   "source": [
    "print(\"cherry\" in myset)"
   ]
  },
  {
   "cell_type": "code",
   "execution_count": 68,
   "id": "af6c5cde-7e13-4836-a3e6-13496a31d290",
   "metadata": {},
   "outputs": [],
   "source": [
    "myset.add(\"grapes\")"
   ]
  },
  {
   "cell_type": "code",
   "execution_count": 69,
   "id": "c7f47456-12b2-4fa8-83f0-889eda53f4e1",
   "metadata": {},
   "outputs": [],
   "source": [
    "myset.remove(\"banana\")"
   ]
  },
  {
   "cell_type": "code",
   "execution_count": 70,
   "id": "c79351a4-9a06-4655-bfe6-e35899928a5c",
   "metadata": {},
   "outputs": [
    {
     "data": {
      "text/plain": [
       "{'apple', 'cherry', 'grapes', 'pineapple'}"
      ]
     },
     "execution_count": 70,
     "metadata": {},
     "output_type": "execute_result"
    }
   ],
   "source": [
    "myset"
   ]
  },
  {
   "cell_type": "code",
   "execution_count": 71,
   "id": "cefa0f7c-8b00-4fa5-8bbe-81ce0499b5e6",
   "metadata": {},
   "outputs": [
    {
     "data": {
      "text/plain": [
       "'grapes'"
      ]
     },
     "execution_count": 71,
     "metadata": {},
     "output_type": "execute_result"
    }
   ],
   "source": [
    "myset.pop()"
   ]
  },
  {
   "cell_type": "code",
   "execution_count": 74,
   "id": "cc71f212-4ac1-4f32-b09e-067afbf867f6",
   "metadata": {},
   "outputs": [],
   "source": [
    "del myset\n"
   ]
  },
  {
   "cell_type": "code",
   "execution_count": 81,
   "id": "9f8845de-e857-46cf-a28a-ad6ba4db89c6",
   "metadata": {},
   "outputs": [
    {
     "name": "stdout",
     "output_type": "stream",
     "text": [
      "{1, 2, 'a', 3, 4, 'b', 'd', 'c'}\n"
     ]
    }
   ],
   "source": [
    "set1 ={\"a\",\"b\",\"c\",\"d\"}\n",
    "set2 ={1,2,3,4}\n",
    "set3=set1.union(set2)\n",
    "print(set3)"
   ]
  },
  {
   "cell_type": "code",
   "execution_count": 83,
   "id": "d42554fa-0303-42d7-bace-fbebc4050116",
   "metadata": {},
   "outputs": [],
   "source": [
    "set4=set1&set2"
   ]
  },
  {
   "cell_type": "code",
   "execution_count": 84,
   "id": "fb427435-2c00-4bcc-bec5-4a41ff2fa007",
   "metadata": {},
   "outputs": [
    {
     "data": {
      "text/plain": [
       "set()"
      ]
     },
     "execution_count": 84,
     "metadata": {},
     "output_type": "execute_result"
    }
   ],
   "source": [
    "set4"
   ]
  },
  {
   "cell_type": "code",
   "execution_count": 85,
   "id": "05ed13bc-9500-4ad3-8a52-d2324b3a32f3",
   "metadata": {},
   "outputs": [
    {
     "data": {
      "text/plain": [
       "{'a', 'b', 'c', 'd'}"
      ]
     },
     "execution_count": 85,
     "metadata": {},
     "output_type": "execute_result"
    }
   ],
   "source": [
    "set1.difference(set2)"
   ]
  },
  {
   "cell_type": "code",
   "execution_count": null,
   "id": "843f5df5-7fce-4db2-93c8-cf6c41a1701c",
   "metadata": {},
   "outputs": [],
   "source": []
  }
 ],
 "metadata": {
  "kernelspec": {
   "display_name": "Python 3 (ipykernel)",
   "language": "python",
   "name": "python3"
  },
  "language_info": {
   "codemirror_mode": {
    "name": "ipython",
    "version": 3
   },
   "file_extension": ".py",
   "mimetype": "text/x-python",
   "name": "python",
   "nbconvert_exporter": "python",
   "pygments_lexer": "ipython3",
   "version": "3.11.7"
  }
 },
 "nbformat": 4,
 "nbformat_minor": 5
}
